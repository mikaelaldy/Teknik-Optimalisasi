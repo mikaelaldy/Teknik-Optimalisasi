{
 "cells": [
  {
   "cell_type": "markdown",
   "metadata": {},
   "source": [
    "# Traveling Salesman Problem dengan GA"
   ]
  },
  {
   "cell_type": "markdown",
   "metadata": {},
   "source": [
    "- Misalkan ada 5 buah kota yang akan dikunjungi : A, B, C,D dan E \n",
    "- Masing-masing kota dinyatakan dengan koordinat x dan y\n",
    "- A (0,0), B (5,6), C (1,4), D (3,4), E (7,7)\n",
    "- Tujuan : menentukan rute terpendek untuk mengunjungi 5 kota tersebut\n",
    "\n",
    "\n"
   ]
  },
  {
   "cell_type": "code",
   "execution_count": 1,
   "metadata": {},
   "outputs": [],
   "source": [
    "import numpy as np # digunakan untuk membuat array kosong yang bisa diisi data sesuai ukuran dan type yang akan ditentukan\n",
    "import random # digunakan untuk merandom populasi, crossover, dan mutasi\n",
    "import matplotlib.pyplot as plt # membuat visualisasi grafik dalam bentuk plot\n"
   ]
  },
  {
   "cell_type": "code",
   "execution_count": 2,
   "metadata": {},
   "outputs": [
    {
     "name": "stdout",
     "output_type": "stream",
     "text": [
      "0 0 \n",
      "5 6 \n",
      "1 4 \n",
      "3 4 \n",
      "7 7 \n",
      "Jumlah kota:  5\n"
     ]
    }
   ],
   "source": [
    "# membuat koordinat kota dalam list\n",
    "daftarKota = [[0,0], [5,6], [1,4], [3,4], [7,7]] # [0, 1, 2, 3, 4]\n",
    "for i in daftarKota:\n",
    "    for j in i:\n",
    "        print(j, end=\" \")\n",
    "    print()\n",
    "\n",
    "jumlahKota = len(daftarKota)\n",
    "print(\"Jumlah kota: \", jumlahKota)\n"
   ]
  },
  {
   "cell_type": "markdown",
   "metadata": {},
   "source": [
    "## 1. inisialisasi populasi"
   ]
  },
  {
   "cell_type": "markdown",
   "metadata": {},
   "source": [
    "inisialisasi secara random dengan random permutation"
   ]
  },
  {
   "cell_type": "code",
   "execution_count": 3,
   "metadata": {},
   "outputs": [
    {
     "name": "stdout",
     "output_type": "stream",
     "text": [
      "Populasi awal:\n",
      "  [[2 0 1 3 4]\n",
      " [1 0 3 2 4]\n",
      " [1 0 4 2 3]\n",
      " [3 1 0 4 2]]\n"
     ]
    }
   ],
   "source": [
    "def initPopulasi(ukuranPopulasi, jumlahKota):\n",
    "    P = np.empty((ukuranPopulasi, jumlahKota))\n",
    "    P = P.astype(int)\n",
    "    for i in range(ukuranPopulasi):\n",
    "        I = np.random.permutation(jumlahKota)\n",
    "        for j in range(jumlahKota):\n",
    "            P[i][j] = I[j]\n",
    "    return P\n",
    "\n",
    "ukuranPopulasi = 4\n",
    "P = initPopulasi(ukuranPopulasi, jumlahKota)\n",
    "print(\"Populasi awal:\\n \", P)"
   ]
  },
  {
   "cell_type": "markdown",
   "metadata": {},
   "source": [
    "menghitung kualitas solusi (fitness)"
   ]
  },
  {
   "cell_type": "code",
   "execution_count": 4,
   "metadata": {},
   "outputs": [
    {
     "name": "stdout",
     "output_type": "stream",
     "text": [
      "Fitness populasi awal:  [26.46998636 23.75452159 29.24637567 29.24637567]\n"
     ]
    }
   ],
   "source": [
    "\n",
    "def hitungKualitas(populasi, daftarKota):\n",
    "    size = populasi.shape\n",
    "    ukuranPopulasi = size[0]\n",
    "    jumlahKota = size[1]\n",
    "\n",
    "    matrikJarak = np.empty((ukuranPopulasi))\n",
    "    matrikJarak = matrikJarak.astype('float')\n",
    "    n = len(daftarKota)\n",
    "\n",
    "    for i in range(ukuranPopulasi):\n",
    "        jarak = 0\n",
    "        for j in range(n-1):\n",
    "            jarakX = daftarKota[populasi[i][j]][0\n",
    "            ] - daftarKota[populasi[i][j+1]][0]\n",
    "            jarakY = daftarKota[populasi[i][j]][1] - daftarKota[populasi[i][j+1]][1]\n",
    "            d = np.sqrt(jarakX**2 + jarakY**2)\n",
    "            jarak = jarak + d\n",
    "\n",
    "        dn = np.sqrt((daftarKota[populasi[i][n-1]][0] - daftarKota[populasi[i][0]][0])**2 + (daftarKota[populasi[i][n-1]][1] - daftarKota[populasi[i][0]][1])**2)\n",
    "\n",
    "        jarak = jarak + dn\n",
    "        matrikJarak[i] = jarak\n",
    "\n",
    "    return matrikJarak\n",
    "\n",
    "fitnessPopulasi = hitungKualitas(P, daftarKota) \n",
    "print(\"Fitness populasi awal: \", fitnessPopulasi)\n",
    "\n",
    "\n",
    "     \n"
   ]
  },
  {
   "cell_type": "markdown",
   "metadata": {},
   "source": [
    "## 2. seleksi\n",
    "- menggunakan metode turnamen dengan ukuran k = 2\n",
    "- jumlah induk yang nantinya akan dipilih adalah 2"
   ]
  },
  {
   "cell_type": "code",
   "execution_count": 5,
   "metadata": {},
   "outputs": [
    {
     "name": "stdout",
     "output_type": "stream",
     "text": [
      "Induk:\n",
      "  [[2 0 1 3 4]\n",
      " [1 0 3 2 4]]\n"
     ]
    }
   ],
   "source": [
    "def seleksi(P, individu):\n",
    "    jumlahInduk = 2\n",
    "    size = P.shape\n",
    "    ukuranPopulasi = size[0]\n",
    "    jumlahKota = size[1]\n",
    "\n",
    "    Induk = np.empty((jumlahInduk, jumlahKota))\n",
    "    Induk = Induk.astype(int)\n",
    "\n",
    "    for i in range(jumlahInduk):\n",
    "        #seleksi dengan turnamen\n",
    "        random1 = random.randint(0, ukuranPopulasi-1)\n",
    "        random2 = random.randint(0, ukuranPopulasi-1)\n",
    "\n",
    "        if individu[random1] < individu[random2]:\n",
    "            for j in range(jumlahKota):\n",
    "                Induk[i][j] = P[random1][j]\n",
    "        else:\n",
    "            for j in range(jumlahKota):\n",
    "                Induk[i][j] = P[random2][j]\n",
    "    return Induk\n",
    "    \n",
    "Induk = seleksi(P, fitnessPopulasi)\n",
    "print(\"Induk:\\n \", Induk)"
   ]
  },
  {
   "cell_type": "markdown",
   "metadata": {},
   "source": [
    "## 3. Reproduksi"
   ]
  },
  {
   "cell_type": "markdown",
   "metadata": {},
   "source": [
    "- membuat fungsi crossover dengan PMX"
   ]
  },
  {
   "cell_type": "code",
   "execution_count": 6,
   "metadata": {},
   "outputs": [
    {
     "name": "stdout",
     "output_type": "stream",
     "text": [
      "Anak dari crossover:\n",
      "  [[2 0 3 4 1]\n",
      " [1 0 3 4 2]]\n"
     ]
    }
   ],
   "source": [
    "def crossover(Induk):\n",
    "    size = Induk.shape\n",
    "    baris = size[0]\n",
    "    kolom = size[1]\n",
    "\n",
    "    I1 = np.empty((kolom))\n",
    "    I2 = np.empty((kolom))\n",
    "    A1 = np.empty((kolom))\n",
    "    A2 = np.empty((kolom))\n",
    "    Anak = np.empty((baris, kolom)) \n",
    "    Anak = Anak.astype(int)\n",
    "\n",
    "    for i in range(kolom):\n",
    "        I1[i] = Induk[0][i]\n",
    "        I2[i] = Induk[1][i]\n",
    "    \n",
    "    random1 = random.randint(1, kolom-2)\n",
    "\n",
    "    for i0 in range(kolom):\n",
    "        A1[i0] = I1[i0]\n",
    "        A2[i0] = I2[i0]\n",
    "    \n",
    "    batasCek1 = random1\n",
    "    batasCek2 = random1\n",
    "\n",
    "    for i in range(kolom):\n",
    "        m = (i + random1) % kolom\n",
    "\n",
    "        n1 = I1[m]\n",
    "        n2 = I2[m]\n",
    "\n",
    "        # cek apakah n1 dan n2 ada di A1 dan A2\n",
    "\n",
    "        idxAda1 = 0\n",
    "        idxAda2 = 0\n",
    "\n",
    "        for j1 in range(batasCek1):\n",
    "\n",
    "            if batasCek1 > kolom:\n",
    "                idxAda1 = 1\n",
    "            if A1[j1] == n2:\n",
    "                idxAda1 = 1\n",
    "        \n",
    "        for j2 in range(batasCek2):\n",
    "            if batasCek2 > kolom:\n",
    "                idxAda2 = 1\n",
    "            if A2[j2] == n1:\n",
    "                idxAda2 = 1\n",
    "\n",
    "        if idxAda1 == 0:\n",
    "            A1[batasCek1] = n2\n",
    "            batasCek1 = batasCek1 + 1\n",
    "        \n",
    "        if idxAda2 == 0:\n",
    "            A2[batasCek2] = n1\n",
    "            batasCek2 = batasCek2 + 1\n",
    "        \n",
    "    for i in range(kolom):\n",
    "        Anak[0][i] = A1[i]\n",
    "        Anak[1][i] = A2[i]\n",
    "    \n",
    "    return Anak\n",
    "\n",
    "AnakCrossover = crossover(Induk)\n",
    "print(\"Anak dari crossover:\\n \", AnakCrossover)\n"
   ]
  },
  {
   "cell_type": "markdown",
   "metadata": {},
   "source": [
    "- Membuat mutasi dengan swap"
   ]
  },
  {
   "cell_type": "code",
   "execution_count": 7,
   "metadata": {},
   "outputs": [
    {
     "name": "stdout",
     "output_type": "stream",
     "text": [
      "Anak dari crossover:\n",
      "  [[2 0 3 4 1]\n",
      " [1 0 3 4 2]]\n",
      "Anak dari mutasi:\n",
      "  [[2 0 3 1 4]\n",
      " [1 0 3 2 4]]\n"
     ]
    }
   ],
   "source": [
    "def mutasi(Induk):\n",
    "    size = Induk.shape\n",
    "    baris = size[0]\n",
    "    kolom = size[1]\n",
    "    \n",
    "    Anak = np.empty((baris, kolom))\n",
    "    Anak = Anak.astype(int)\n",
    "\n",
    "    Anak = Induk\n",
    "\n",
    "    random1 = random.randint(0, kolom-1)\n",
    "    random2 = random.randint(0, kolom-1)\n",
    "\n",
    "    while random1 == random2:\n",
    "        random2 = random.randint(0, kolom-1)\n",
    "    \n",
    "    if random1 < random2:\n",
    "        rs1 = random1\n",
    "        rs2 = random2\n",
    "    else:\n",
    "        rs1 = random2\n",
    "        rs2 = random1\n",
    "    \n",
    "    I1rs1 = Induk[0][rs1]\n",
    "    I1rs2 = Induk[0][rs2]\n",
    "    I2rs1 = Induk[1][rs1]\n",
    "    I2rs2 = Induk[1][rs2]\n",
    "\n",
    "    Anak[0][rs1] = I1rs2\n",
    "    Anak[0][rs2] = I1rs1\n",
    "    Anak[1][rs1] = I2rs2\n",
    "    Anak[1][rs2] = I2rs1\n",
    "\n",
    "    return Anak\n",
    "\n",
    "print(\"Anak dari crossover:\\n \", AnakCrossover)\n",
    "AnakMutasi = mutasi(AnakCrossover)\n",
    "print(\"Anak dari mutasi:\\n \", AnakMutasi)\n"
   ]
  },
  {
   "cell_type": "markdown",
   "metadata": {},
   "source": [
    "## 4.Elitism"
   ]
  },
  {
   "cell_type": "code",
   "execution_count": 8,
   "metadata": {},
   "outputs": [
    {
     "name": "stdout",
     "output_type": "stream",
     "text": [
      "populasi:\n",
      "  [[2 0 1 3 4]\n",
      " [1 0 3 2 4]\n",
      " [1 0 4 2 3]\n",
      " [3 1 0 4 2]]\n",
      "Anak mutasi:  [[2 0 3 1 4]\n",
      " [1 0 3 2 4]]\n",
      "Fitness anak mutasi:  [20.89580466 23.75452159]\n",
      "Populasi setelah elitism:  [array([[2, 0, 1, 3, 4],\n",
      "       [1, 0, 3, 2, 4],\n",
      "       [2, 0, 3, 1, 4],\n",
      "       [1, 0, 3, 2, 4]]), array([26.46998636, 23.75452159, 20.89580466, 23.75452159])]\n",
      "Fitness populasi setelah elitism:  [26.46998636 23.75452159 20.89580466 23.75452159]\n"
     ]
    }
   ],
   "source": [
    "def elitism(P, Anak, fitnessPopulasi, fitnessAnak):\n",
    "    sizeP = P.shape\n",
    "    barisP = sizeP[0]\n",
    "    kolomP = sizeP[1]\n",
    "    sizeA = Anak.shape\n",
    "    barisA = sizeA[0]\n",
    "    kolomA = sizeA[1]\n",
    "\n",
    "    for i in range(barisA):\n",
    "        iJelek = fitnessPopulasi.max()\n",
    "        idxJelek = fitnessPopulasi.argmax()\n",
    "\n",
    "        if fitnessAnak[i] < iJelek:\n",
    "            fitnessPopulasi[idxJelek] = fitnessAnak[i]\n",
    "            for j in range(kolomP):\n",
    "                P[idxJelek][j] = Anak[i][j]\n",
    "    \n",
    "    return [P, fitnessPopulasi]\n",
    "\n",
    "\n",
    "fitnessAnak = hitungKualitas(AnakMutasi, daftarKota)\n",
    "print(\"populasi:\\n \", P)\n",
    "print(\"Anak mutasi: \", AnakMutasi)\n",
    "print(\"Fitness anak mutasi: \", fitnessAnak)\n",
    "P = elitism(P, AnakMutasi, fitnessPopulasi, fitnessAnak)\n",
    "print(\"Populasi setelah elitism: \", P)\n",
    "print(\"Fitness populasi setelah elitism: \", fitnessPopulasi)\n",
    "\n",
    "\n",
    "            \n"
   ]
  },
  {
   "cell_type": "markdown",
   "metadata": {},
   "source": [
    "## 5. Output"
   ]
  },
  {
   "cell_type": "code",
   "execution_count": 9,
   "metadata": {},
   "outputs": [
    {
     "name": "stdout",
     "output_type": "stream",
     "text": [
      "Populasi awal:\n",
      "  [[3 4 1 0 2]\n",
      " [4 0 3 1 2]\n",
      " [4 0 3 2 1]\n",
      " [3 2 0 4 1]]\n",
      "Fitness populasi awal:  [21.16942328 28.90826195 23.60769887 21.08709566]\n",
      "fitness populasi awal terbaik:  21.087095664475306\n",
      "rute awal terbaik:  [3 2 0 4 1]\n",
      "Generasi ke- 1\n",
      "populasi ke- 1  :  [21.16942328 28.90826195 23.60769887 21.08709566]\n",
      "fitness ke- 1 terbaik :  21.087095664475306\n",
      "rute kota generasi ke- 1 terbaik :  [3 2 0 4 1]\n",
      "Generasi ke- 2\n",
      "populasi ke- 2  :  [21.16942328 21.16942328 21.16942328 21.08709566]\n",
      "fitness ke- 2 terbaik :  21.087095664475306\n",
      "rute kota generasi ke- 2 terbaik :  [3 2 0 4 1]\n",
      "Generasi ke- 3\n",
      "populasi ke- 3  :  [21.08709566 21.08709566 21.16942328 21.08709566]\n",
      "fitness ke- 3 terbaik :  21.087095664475306\n",
      "rute kota generasi ke- 3 terbaik :  [3 2 0 4 1]\n",
      "Generasi ke- 4\n",
      "populasi ke- 4  :  [21.08709566 21.08709566 21.08709566 21.08709566]\n",
      "fitness ke- 4 terbaik :  21.087095664475306\n",
      "rute kota generasi ke- 4 terbaik :  [3 2 0 4 1]\n",
      "Generasi ke- 5\n",
      "populasi ke- 5  :  [21.08709566 21.08709566 21.08709566 21.08709566]\n",
      "fitness ke- 5 terbaik :  21.087095664475306\n",
      "rute kota generasi ke- 5 terbaik :  [3 2 0 4 1]\n"
     ]
    }
   ],
   "source": [
    "# inisialisasi parameter\n",
    "Pcx = 0.95\n",
    "Pm = 0.01\n",
    "ukuranPopulasi = 4\n",
    "max_generasi = 5\n",
    "progress_jalur = []\n",
    "\n",
    "# inisialisasi Populasi\n",
    "\n",
    "P = initPopulasi(ukuranPopulasi, jumlahKota)\n",
    "\n",
    "print(\"Populasi awal:\\n \", P)\n",
    "\n",
    "#melakukan evaluasi P\n",
    "\n",
    "fitnessPopulasi = hitungKualitas(P, daftarKota)\n",
    "print(\"Fitness populasi awal: \", fitnessPopulasi)\n",
    "\n",
    "print(\"fitness populasi awal terbaik: \", fitnessPopulasi.min())\n",
    "print(\"rute awal terbaik: \", P[fitnessPopulasi.argmin()])\n",
    "\n",
    "\n",
    "for i in range(max_generasi):\n",
    "    print(\"Generasi ke-\", i+1)\n",
    "    print(\"populasi ke-\",i+1,\" : \",fitnessPopulasi)\n",
    "    print(\"fitness ke-\", i+1, \"terbaik : \", fitnessPopulasi.min())\n",
    "    print(\"rute kota generasi ke-\",i+1, \"terbaik : \", P[fitnessPopulasi.argmin()])\n",
    "    Induk = seleksi(P, fitnessPopulasi)\n",
    "\n",
    "    Anak = Induk\n",
    "\n",
    "    randomCrossover = random.random()\n",
    "    \n",
    "    if randomCrossover < Pcx:\n",
    "        Anak = crossover(Induk)\n",
    "\n",
    "        randomMutation = random.random()\n",
    "\n",
    "        if randomMutation < Pm:\n",
    "            Anak = mutasi(Anak)\n",
    "    \n",
    "    fitnessAnak = hitungKualitas(Anak, daftarKota)\n",
    "    [P, fitnessPopulasi] = elitism(P, Anak, fitnessPopulasi, fitnessAnak)\n",
    "    progress_jalur.append(fitnessPopulasi.min())"
   ]
  },
  {
   "cell_type": "code",
   "execution_count": 12,
   "metadata": {},
   "outputs": [
    {
     "name": "stdout",
     "output_type": "stream",
     "text": [
      "[21.087095664475306, 21.087095664475306, 21.087095664475306, 21.087095664475306, 21.087095664475306]\n"
     ]
    },
    {
     "data": {
      "image/png": "[encoded data removed]",
      "text/plain": [
       "<Figure size 432x288 with 1 Axes>"
      ]
     },
     "metadata": {
      "needs_background": "light"
     },
     "output_type": "display_data"
    }
   ],
   "source": [
    "\n",
    "x = [i for i in range (max_generasi)]\n",
    "plt.xlabel('Generasi')\n",
    "plt.ylabel('Fitness')\n",
    "plt.plot(x, progress_jalur)\n",
    "print(progress_jalur)"
   ]
  },
  {
   "cell_type": "code",
   "execution_count": null,
   "metadata": {},
   "outputs": [],
   "source": []
  },
  {
   "cell_type": "code",
   "execution_count": null,
   "metadata": {},
   "outputs": [],
   "source": [
    "\n"
   ]
  },
  {
   "cell_type": "code",
   "execution_count": null,
   "metadata": {},
   "outputs": [],
   "source": []
  }
 ],
 "metadata": {
  "interpreter": {
   "hash": "ad2bdc8ecc057115af97d19610ffacc2b4e99fae6737bb82f5d7fb13d2f2c186"
  },
  "kernelspec": {
   "display_name": "Python 3.9.7 ('base')",
   "language": "python",
   "name": "python3"
  },
  "language_info": {
   "codemirror_mode": {
    "name": "ipython",
    "version": 3
   },
   "file_extension": ".py",
   "mimetype": "text/x-python",
   "name": "python",
   "nbconvert_exporter": "python",
   "pygments_lexer": "ipython3",
   "version": "3.9.7"
  },
  "orig_nbformat": 4
 },
 "nbformat": 4,
 "nbformat_minor": 2
}
