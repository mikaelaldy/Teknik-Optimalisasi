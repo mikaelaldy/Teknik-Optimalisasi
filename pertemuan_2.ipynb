{
 "cells": [
  {
   "cell_type": "markdown",
   "metadata": {},
   "source": [
    "# Time Complexity dan Big-O Notation\n"
   ]
  },
  {
   "cell_type": "markdown",
   "metadata": {},
   "source": [
    "## 1. logaritmic time algoritm O(log n)\n",
    "\n",
    "Logarithmic Time artinya ketika kita memberikan input sebesar n terhadap sebuah fungsi, jumlah tahapan yang dilakukan oleh fungsi tersebut berkurang berdasarkan suatu faktor. Salah satu contohnya adalah algoritma Binary Search dan rekursif search.\n",
    "\n",
    "Binary Search adalah algoritma yang kita gunakan dalam mencari posisi nilai dari suatu array dengan cara ‘mengeliminasi’ setengah dari array input untuk mempercepat proses pencarian."
   ]
  },
  {
   "cell_type": "code",
   "execution_count": 8,
   "metadata": {},
   "outputs": [
    {
     "name": "stdout",
     "output_type": "stream",
     "text": [
      "6\n"
     ]
    }
   ],
   "source": [
    "# 1. Binary Search\n",
    "#crete logaritmic time algoritm O(log n)\n",
    "sortedArray = [11, 24, 30, 43, 51, 61, 73, 86]\n",
    "\n",
    "def binarySearch(sortedArray, target):\n",
    "    low = 0\n",
    "    high = len(sortedArray) - 1\n",
    "    while low <= high:\n",
    "        mid = (low + high) // 2\n",
    "        if sortedArray[mid] == target:\n",
    "            return mid\n",
    "        elif sortedArray[mid] < target:\n",
    "            low = mid + 1\n",
    "        else:\n",
    "            high = mid - 1\n",
    "    return -1\n",
    "\n",
    "print(binarySearch(sortedArray, 73))\n",
    "\n",
    "\n",
    "\n",
    "\n"
   ]
  },
  {
   "cell_type": "code",
   "execution_count": 9,
   "metadata": {},
   "outputs": [
    {
     "name": "stdout",
     "output_type": "stream",
     "text": [
      "6\n"
     ]
    }
   ],
   "source": [
    "# 2. recursive Search\n",
    "# crete rekursive time algoritm\n",
    "def recursiveSearch(sortedArray, target, low, high):\n",
    "    if low > high:\n",
    "        return -1\n",
    "    mid = (low + high) // 2\n",
    "    if sortedArray[mid] == target:\n",
    "        return mid\n",
    "    elif sortedArray[mid] < target:\n",
    "        return recursiveSearch(sortedArray, target, mid + 1, high)\n",
    "    else:\n",
    "        return recursiveSearch(sortedArray, target, low, mid - 1)\n",
    "\n",
    "print(recursiveSearch(sortedArray, 73, 0, len(sortedArray) - 1))"
   ]
  },
  {
   "cell_type": "markdown",
   "metadata": {},
   "source": [
    "## 2. Linear Time O(n)"
   ]
  },
  {
   "cell_type": "code",
   "execution_count": 11,
   "metadata": {},
   "outputs": [
    {
     "name": "stdout",
     "output_type": "stream",
     "text": [
      "6\n"
     ]
    }
   ],
   "source": [
    "# crete linear time algoritm\n",
    "def linearSearch(sortedArray, target):\n",
    "    for i in range(len(sortedArray)):\n",
    "        if sortedArray[i] == target:\n",
    "            return i\n",
    "    return -1\n",
    "\n",
    "print(linearSearch(sortedArray, 73))"
   ]
  },
  {
   "cell_type": "markdown",
   "metadata": {},
   "source": [
    "## 3. Quadratic Time O(n²)\n",
    "Quadratic Time adalah ketika runtime dari fungsi kita adalah sebesar n^2, dimana n adalah jumlah input dari fungsi tersebut. Hal tersebut bisa terjadi karena kita menjalankan fungsi linear didalam fungsi linear (n*n)."
   ]
  },
  {
   "cell_type": "code",
   "execution_count": 12,
   "metadata": {},
   "outputs": [],
   "source": [
    "# create quadratic time algoritm\n",
    "def quadraticSearch(sortedArray, target):\n",
    "    for i in range(len(sortedArray)):\n",
    "        for j in range(len(sortedArray)):\n",
    "            if sortedArray[i] == target:\n",
    "                return i\n",
    "    return -1"
   ]
  },
  {
   "cell_type": "markdown",
   "metadata": {},
   "source": [
    "## 4. Exponential Time\n",
    "Exponential Time biasanya digunakan dalam situasi dimana kita tidak terlalu tahu terhadap permasalahan yang dihadapi, sehingga mengharuskan kita mencoba setiap kombinasi dan permutasi dari semua kemungkinan."
   ]
  },
  {
   "cell_type": "code",
   "execution_count": 14,
   "metadata": {},
   "outputs": [
    {
     "name": "stdout",
     "output_type": "stream",
     "text": [
      "6\n"
     ]
    }
   ],
   "source": [
    "# create cubic time algoritm\n",
    "def cubicSearch(sortedArray, target):\n",
    "    for i in range(len(sortedArray)):\n",
    "        for j in range(len(sortedArray)):\n",
    "            for k in range(len(sortedArray)):\n",
    "                if sortedArray[i] == target:\n",
    "                    return i\n",
    "    return -1\n",
    "\n",
    "print(cubicSearch(sortedArray, 73))\n"
   ]
  },
  {
   "cell_type": "code",
   "execution_count": null,
   "metadata": {},
   "outputs": [],
   "source": []
  }
 ],
 "metadata": {
  "interpreter": {
   "hash": "ad2bdc8ecc057115af97d19610ffacc2b4e99fae6737bb82f5d7fb13d2f2c186"
  },
  "kernelspec": {
   "display_name": "Python 3.9.7 ('base')",
   "language": "python",
   "name": "python3"
  },
  "language_info": {
   "codemirror_mode": {
    "name": "ipython",
    "version": 3
   },
   "file_extension": ".py",
   "mimetype": "text/x-python",
   "name": "python",
   "nbconvert_exporter": "python",
   "pygments_lexer": "ipython3",
   "version": "3.9.7"
  },
  "orig_nbformat": 4
 },
 "nbformat": 4,
 "nbformat_minor": 2
}
